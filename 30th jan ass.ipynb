{
 "cells": [
  {
   "cell_type": "code",
   "execution_count": 1,
   "id": "5ec43e23-e923-4488-baa1-0e8e75ffc9ae",
   "metadata": {},
   "outputs": [
    {
     "name": "stdin",
     "output_type": "stream",
     "text": [
      "enter your marks 75\n"
     ]
    },
    {
     "name": "stdout",
     "output_type": "stream",
     "text": [
      "Grade=C\n"
     ]
    }
   ],
   "source": [
    "#Q.1\n",
    "marks=int(input(\"enter your marks\"))\n",
    "if marks>90:\n",
    "    print(\"Grade=A\")\n",
    "elif marks>80 and marks<=90:\n",
    "    print(\"Grade=B\")\n",
    "elif marks>=60 and marks<=80:\n",
    "    print(\"Grade=C\")\n",
    "elif marks<60:\n",
    "    print(\"Grade=D\")"
   ]
  },
  {
   "cell_type": "code",
   "execution_count": 2,
   "id": "07269327-eb49-4f15-a75a-92c426338852",
   "metadata": {},
   "outputs": [
    {
     "name": "stdin",
     "output_type": "stream",
     "text": [
      "enter your coast price 50000\n"
     ]
    }
   ],
   "source": [
    "#Q.2\n",
    "coastprice=int(input(\"enter your coast price\"))\n",
    "if coastprice>100000:\n",
    "    print(\"tax=15%\")\n",
    "elif coastprice>50000 and coastprice<100000:\n",
    "    print(\"tax=10%\")\n",
    "elif coastprice<50000:\n",
    "    print(\"tax=5%\")"
   ]
  },
  {
   "cell_type": "code",
   "execution_count": 3,
   "id": "f1993d78-6a12-4860-be22-d0e653a362b2",
   "metadata": {},
   "outputs": [
    {
     "name": "stdin",
     "output_type": "stream",
     "text": [
      "enter the city name agra\n"
     ]
    },
    {
     "name": "stdout",
     "output_type": "stream",
     "text": [
      "tajmahal\n"
     ]
    }
   ],
   "source": [
    "#Q.3\n",
    "city=str(input(\"enter the city name\"))\n",
    "if city=='agra':\n",
    "    print(\"tajmahal\")\n",
    "elif city=='delhi':\n",
    "    print(\"redfort\")\n",
    "elif city=='jaipur':\n",
    "    print(\"jalmahal\")"
   ]
  },
  {
   "cell_type": "code",
   "execution_count": 4,
   "id": "f92ff8fc-7094-478f-b46e-b828e7b23230",
   "metadata": {},
   "outputs": [
    {
     "name": "stdin",
     "output_type": "stream",
     "text": [
      "enter your number 9\n"
     ]
    },
    {
     "name": "stdout",
     "output_type": "stream",
     "text": [
      "it is less than or eual 10\n"
     ]
    }
   ],
   "source": [
    "#Q.4\n",
    "number=int(input(\"enter your number\"))\n",
    "if number%3==0 and number<=10:\n",
    "    print(\"it is less than or eual 10\")\n",
    "else:\n",
    "    print(\"wrong\")\n",
    "    "
   ]
  },
  {
   "cell_type": "code",
   "execution_count": 5,
   "id": "84ce81e2-ac81-4ac0-b337-dc2322fc1e26",
   "metadata": {},
   "outputs": [
    {
     "name": "stdout",
     "output_type": "stream",
     "text": [
      "10\n",
      "9\n",
      "8\n",
      "7\n",
      "6\n",
      "5\n",
      "4\n",
      "3\n",
      "2\n",
      "1\n"
     ]
    }
   ],
   "source": [
    "#Q.5\n",
    "i=10\n",
    "number=1\n",
    "while i>=number:\n",
    "    print(i)\n",
    "    i=i-1"
   ]
  },
  {
   "cell_type": "code",
   "execution_count": 6,
   "id": "500188d2-5a9b-4c1b-abe1-27ab46021c2a",
   "metadata": {},
   "outputs": [
    {
     "name": "stdout",
     "output_type": "stream",
     "text": [
      "* \n",
      "* * \n",
      "* * * \n"
     ]
    }
   ],
   "source": [
    "#Q6\n",
    "for i in range(1,4):\n",
    "    for j in range(i):\n",
    "        print(\"*\",end=' ')\n",
    "    print()    "
   ]
  },
  {
   "cell_type": "code",
   "execution_count": 7,
   "id": "f97c2b66-7a48-4054-9532-a9204dfc2a1b",
   "metadata": {},
   "outputs": [],
   "source": [
    "#Q.7\n",
    "#while loop evaluqate the condition,if the condition evaluates true ,thr code inside the while loop is executed condition is evaluated again,the process continous until the false"
   ]
  },
  {
   "cell_type": "code",
   "execution_count": 8,
   "id": "f6faee8f-c73d-45b2-b1b6-2bf4df44dfa4",
   "metadata": {},
   "outputs": [
    {
     "name": "stdout",
     "output_type": "stream",
     "text": [
      "1\n",
      "2\n",
      "3\n",
      "4\n",
      "5\n"
     ]
    }
   ],
   "source": [
    "i=1\n",
    "n=5\n",
    "while i<=n:\n",
    "    print(i)\n",
    "    i=i+1"
   ]
  },
  {
   "cell_type": "code",
   "execution_count": null,
   "id": "f47250e3-4f52-46bd-b146-74a9d546a987",
   "metadata": {},
   "outputs": [],
   "source": []
  }
 ],
 "metadata": {
  "kernelspec": {
   "display_name": "Python 3 (ipykernel)",
   "language": "python",
   "name": "python3"
  },
  "language_info": {
   "codemirror_mode": {
    "name": "ipython",
    "version": 3
   },
   "file_extension": ".py",
   "mimetype": "text/x-python",
   "name": "python",
   "nbconvert_exporter": "python",
   "pygments_lexer": "ipython3",
   "version": "3.10.8"
  }
 },
 "nbformat": 4,
 "nbformat_minor": 5
}
